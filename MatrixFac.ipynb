{
 "cells": [
  {
   "cell_type": "markdown",
   "metadata": {
    "colab_type": "text",
    "id": "view-in-github"
   },
   "source": [
    "<a href=\"https://colab.research.google.com/github/jefffang19/Keras_recommandSys/blob/master/MatrixFac.ipynb\" target=\"_parent\"><img src=\"https://colab.research.google.com/assets/colab-badge.svg\" alt=\"Open In Colab\"/></a>"
   ]
  },
  {
   "cell_type": "markdown",
   "metadata": {
    "colab_type": "text",
    "id": "Bw5KPyGwQVOF"
   },
   "source": [
    "# Model Sturcture : Collaborative Filtering Matrix Factorization"
   ]
  },
  {
   "cell_type": "code",
   "execution_count": 1,
   "metadata": {
    "colab": {},
    "colab_type": "code",
    "id": "EdT_MRxkSXHz"
   },
   "outputs": [],
   "source": [
    "from tensorflow.keras.layers import Embedding, Input, Dot, Flatten\n",
    "from tensorflow.keras import Model"
   ]
  },
  {
   "cell_type": "code",
   "execution_count": 2,
   "metadata": {
    "colab": {},
    "colab_type": "code",
    "id": "yaO3oE5LXH1L"
   },
   "outputs": [],
   "source": [
    "from tensorflow.keras import optimizers"
   ]
  },
  {
   "cell_type": "code",
   "execution_count": 3,
   "metadata": {
    "colab": {},
    "colab_type": "code",
    "id": "2l_oHYTLXMv1"
   },
   "outputs": [],
   "source": [
    "import tensorflow as tf\n",
    "tf.keras.backend.clear_session()"
   ]
  },
  {
   "cell_type": "code",
   "execution_count": 4,
   "metadata": {
    "colab": {},
    "colab_type": "code",
    "id": "_5fmB_GdwE-9"
   },
   "outputs": [],
   "source": [
    "#custom accuracy calculation\n",
    "def accuracy_w_threshhold_metric_fn(y_true, y_pred) :\n",
    "  approx = tf.abs(y_true - y_pred) <= 0.25\n",
    "  approx = tf.cast(approx, tf.int32)\n",
    "  return tf.reduce_mean(approx, axis=-1)"
   ]
  },
  {
   "cell_type": "code",
   "execution_count": 5,
   "metadata": {
    "colab": {},
    "colab_type": "code",
    "id": "vusgwnfnQiaC"
   },
   "outputs": [],
   "source": [
    "class CFMF():\n",
    "  def __init__(self, u, i):\n",
    "    self._user_num = u\n",
    "    self._item_num = i\n",
    "    self._embed_dim = 10\n",
    "    self._learning_rate = 0.001\n",
    "\n",
    "  def create_model(self):\n",
    "    #inputs\n",
    "    user_input = Input(shape=(1,), name='input_user')\n",
    "    item_input = Input(shape=(1,), name='input_item')\n",
    "\n",
    "    user_embed = Embedding(self._user_num, self._embed_dim, name='user_embedding')(user_input)\n",
    "    item_embed = Embedding(self._item_num, self._embed_dim, name='item_embedding')(item_input)\n",
    "\n",
    "    mat = Dot(axes=2)([user_embed, item_embed])\n",
    "\n",
    "    x = Flatten()(mat)\n",
    "\n",
    "    model = Model(inputs=[user_input, item_input], outputs=x)\n",
    "    #accuracy: choose binary accuracy becauese it can approximate the model output to match the label(ground truth)\n",
    "    model.compile(loss='mse', optimizer=optimizers.Adam(learning_rate=self._learning_rate), metrics=[accuracy_w_threshhold_metric_fn,])\n",
    "\n",
    "    print(model.summary())\n",
    "\n",
    "    return model\n",
    "\n",
    "    \n"
   ]
  },
  {
   "cell_type": "markdown",
   "metadata": {
    "colab_type": "text",
    "id": "s4r9NJt-cdnJ"
   },
   "source": [
    "# Process MovieLens 100k data"
   ]
  },
  {
   "cell_type": "code",
   "execution_count": 6,
   "metadata": {
    "colab": {
     "base_uri": "https://localhost:8080/",
     "height": 121
    },
    "colab_type": "code",
    "id": "1eT0HhFDZHQc",
    "outputId": "e3ef3a2e-2990-4e5f-ff36-e889f5c189d3"
   },
   "outputs": [
    {
     "name": "stdout",
     "output_type": "stream",
     "text": [
      "Go to this URL in a browser: https://accounts.google.com/o/oauth2/auth?client_id=947318989803-6bn6qk8qdgf4n4g3pfee6491hc0brc4i.apps.googleusercontent.com&redirect_uri=urn%3aietf%3awg%3aoauth%3a2.0%3aoob&scope=email%20https%3a%2f%2fwww.googleapis.com%2fauth%2fdocs.test%20https%3a%2f%2fwww.googleapis.com%2fauth%2fdrive%20https%3a%2f%2fwww.googleapis.com%2fauth%2fdrive.photos.readonly%20https%3a%2f%2fwww.googleapis.com%2fauth%2fpeopleapi.readonly&response_type=code\n",
      "\n",
      "Enter your authorization code:\n",
      "··········\n",
      "Mounted at /content/gdrive\n"
     ]
    }
   ],
   "source": [
    "from google.colab import drive\n",
    "drive.mount('/content/gdrive')"
   ]
  },
  {
   "cell_type": "code",
   "execution_count": 7,
   "metadata": {
    "colab": {},
    "colab_type": "code",
    "id": "5rXttKs7cusq"
   },
   "outputs": [],
   "source": [
    "import pandas as pd\n",
    "import numpy as np"
   ]
  },
  {
   "cell_type": "code",
   "execution_count": 8,
   "metadata": {
    "colab": {},
    "colab_type": "code",
    "id": "4tnJPujUckre"
   },
   "outputs": [],
   "source": [
    "ratings = pd.read_csv('gdrive/My Drive/iir_training_python/Recommendation System/ratings.csv')"
   ]
  },
  {
   "cell_type": "code",
   "execution_count": 9,
   "metadata": {
    "colab": {
     "base_uri": "https://localhost:8080/",
     "height": 402
    },
    "colab_type": "code",
    "id": "ufsdauGfu1b1",
    "outputId": "fb24953d-989d-445f-f41e-e768a4f37358"
   },
   "outputs": [
    {
     "data": {
      "text/html": [
       "<div>\n",
       "<style scoped>\n",
       "    .dataframe tbody tr th:only-of-type {\n",
       "        vertical-align: middle;\n",
       "    }\n",
       "\n",
       "    .dataframe tbody tr th {\n",
       "        vertical-align: top;\n",
       "    }\n",
       "\n",
       "    .dataframe thead th {\n",
       "        text-align: right;\n",
       "    }\n",
       "</style>\n",
       "<table border=\"1\" class=\"dataframe\">\n",
       "  <thead>\n",
       "    <tr style=\"text-align: right;\">\n",
       "      <th></th>\n",
       "      <th>userId</th>\n",
       "      <th>movieId</th>\n",
       "      <th>rating</th>\n",
       "      <th>timestamp</th>\n",
       "    </tr>\n",
       "  </thead>\n",
       "  <tbody>\n",
       "    <tr>\n",
       "      <th>0</th>\n",
       "      <td>1</td>\n",
       "      <td>1</td>\n",
       "      <td>4.0</td>\n",
       "      <td>964982703</td>\n",
       "    </tr>\n",
       "    <tr>\n",
       "      <th>1</th>\n",
       "      <td>1</td>\n",
       "      <td>3</td>\n",
       "      <td>4.0</td>\n",
       "      <td>964981247</td>\n",
       "    </tr>\n",
       "    <tr>\n",
       "      <th>2</th>\n",
       "      <td>1</td>\n",
       "      <td>6</td>\n",
       "      <td>4.0</td>\n",
       "      <td>964982224</td>\n",
       "    </tr>\n",
       "    <tr>\n",
       "      <th>3</th>\n",
       "      <td>1</td>\n",
       "      <td>47</td>\n",
       "      <td>5.0</td>\n",
       "      <td>964983815</td>\n",
       "    </tr>\n",
       "    <tr>\n",
       "      <th>4</th>\n",
       "      <td>1</td>\n",
       "      <td>50</td>\n",
       "      <td>5.0</td>\n",
       "      <td>964982931</td>\n",
       "    </tr>\n",
       "    <tr>\n",
       "      <th>...</th>\n",
       "      <td>...</td>\n",
       "      <td>...</td>\n",
       "      <td>...</td>\n",
       "      <td>...</td>\n",
       "    </tr>\n",
       "    <tr>\n",
       "      <th>100831</th>\n",
       "      <td>610</td>\n",
       "      <td>166534</td>\n",
       "      <td>4.0</td>\n",
       "      <td>1493848402</td>\n",
       "    </tr>\n",
       "    <tr>\n",
       "      <th>100832</th>\n",
       "      <td>610</td>\n",
       "      <td>168248</td>\n",
       "      <td>5.0</td>\n",
       "      <td>1493850091</td>\n",
       "    </tr>\n",
       "    <tr>\n",
       "      <th>100833</th>\n",
       "      <td>610</td>\n",
       "      <td>168250</td>\n",
       "      <td>5.0</td>\n",
       "      <td>1494273047</td>\n",
       "    </tr>\n",
       "    <tr>\n",
       "      <th>100834</th>\n",
       "      <td>610</td>\n",
       "      <td>168252</td>\n",
       "      <td>5.0</td>\n",
       "      <td>1493846352</td>\n",
       "    </tr>\n",
       "    <tr>\n",
       "      <th>100835</th>\n",
       "      <td>610</td>\n",
       "      <td>170875</td>\n",
       "      <td>3.0</td>\n",
       "      <td>1493846415</td>\n",
       "    </tr>\n",
       "  </tbody>\n",
       "</table>\n",
       "<p>100836 rows × 4 columns</p>\n",
       "</div>"
      ],
      "text/plain": [
       "        userId  movieId  rating   timestamp\n",
       "0            1        1     4.0   964982703\n",
       "1            1        3     4.0   964981247\n",
       "2            1        6     4.0   964982224\n",
       "3            1       47     5.0   964983815\n",
       "4            1       50     5.0   964982931\n",
       "...        ...      ...     ...         ...\n",
       "100831     610   166534     4.0  1493848402\n",
       "100832     610   168248     5.0  1493850091\n",
       "100833     610   168250     5.0  1494273047\n",
       "100834     610   168252     5.0  1493846352\n",
       "100835     610   170875     3.0  1493846415\n",
       "\n",
       "[100836 rows x 4 columns]"
      ]
     },
     "execution_count": 9,
     "metadata": {
      "tags": []
     },
     "output_type": "execute_result"
    }
   ],
   "source": [
    "ratings"
   ]
  },
  {
   "cell_type": "code",
   "execution_count": 10,
   "metadata": {
    "colab": {
     "base_uri": "https://localhost:8080/",
     "height": 34
    },
    "colab_type": "code",
    "id": "Yw8Sob8pu9rb",
    "outputId": "1f22ae8e-819f-400b-ce89-edbe0cc72857"
   },
   "outputs": [
    {
     "data": {
      "text/plain": [
       "4"
      ]
     },
     "execution_count": 10,
     "metadata": {
      "tags": []
     },
     "output_type": "execute_result"
    }
   ],
   "source": [
    "query0 = ratings[ratings['userId'] == 1]\n",
    "query1 = query0[query0['movieId'] == 50]\n",
    "list(query1.index)[0]"
   ]
  },
  {
   "cell_type": "markdown",
   "metadata": {
    "colab_type": "text",
    "id": "XkK14reXojTw"
   },
   "source": [
    "take the last movie that each user rated ( leave-one-out )"
   ]
  },
  {
   "cell_type": "code",
   "execution_count": null,
   "metadata": {
    "colab": {
     "base_uri": "https://localhost:8080/",
     "height": 70
    },
    "colab_type": "code",
    "id": "CxQUs37lcsrO",
    "outputId": "3078f409-3da1-4257-e3e0-8dfb94ff4515"
   },
   "outputs": [],
   "source": [
    "# { user : movieId }\n",
    "leaveOneOut = {}\n",
    "# loop through all the users who had rated\n",
    "for i in np.unique(ratings['userId'].to_numpy()):\n",
    "  # get the last rated MovieId of user[i]\n",
    "  leaveOneOut[i] = ratings[ratings['userId'] == i]['movieId'].to_numpy()[-1]\n",
    "\n",
    "print(leaveOneOut)\n",
    "len(leaveOneOut)"
   ]
  },
  {
   "cell_type": "code",
   "execution_count": 12,
   "metadata": {
    "colab": {
     "base_uri": "https://localhost:8080/",
     "height": 34
    },
    "colab_type": "code",
    "id": "599uQaaqcz6D",
    "outputId": "828ccd6e-2964-450a-affe-f12077aa86cf"
   },
   "outputs": [
    {
     "name": "stdout",
     "output_type": "stream",
     "text": [
      "610 9724\n"
     ]
    }
   ],
   "source": [
    "# get the number of users and items\n",
    "user_num = len(ratings['userId'].unique())\n",
    "item_num = len(ratings['movieId'].unique())\n",
    "print(user_num, item_num)"
   ]
  },
  {
   "cell_type": "markdown",
   "metadata": {
    "colab_type": "text",
    "id": "jLT5O8n0dbtN"
   },
   "source": [
    "The movieId is not continuos, so we map them to a continous sequence\n"
   ]
  },
  {
   "cell_type": "code",
   "execution_count": null,
   "metadata": {
    "colab": {
     "base_uri": "https://localhost:8080/",
     "height": 54
    },
    "colab_type": "code",
    "id": "fNkRNpPGc8AM",
    "outputId": "4a8ff2c7-d3b8-4935-84b8-f589beed8036"
   },
   "outputs": [],
   "source": [
    "# { 'original movieId' : 'mapped movieId (continuous)' }\n",
    "tmpDict = dict(enumerate(ratings['movieId'].unique()))\n",
    "movieIdDict = {v: k for k, v in tmpDict.items()}\n",
    "print(movieIdDict)"
   ]
  },
  {
   "cell_type": "markdown",
   "metadata": {
    "colab_type": "text",
    "id": "fjSP8FSod-rU"
   },
   "source": [
    "# Split training and testing data (WRONG, DO NOT DO)"
   ]
  },
  {
   "cell_type": "code",
   "execution_count": null,
   "metadata": {
    "colab": {},
    "colab_type": "code",
    "id": "cj23Q_tGdt6H"
   },
   "outputs": [],
   "source": [
    " from sklearn.model_selection import train_test_split"
   ]
  },
  {
   "cell_type": "code",
   "execution_count": null,
   "metadata": {
    "colab": {},
    "colab_type": "code",
    "id": "--MgbJOgd68_"
   },
   "outputs": [],
   "source": [
    "x_train, x_test = train_test_split(ratings, test_size=0.2)"
   ]
  },
  {
   "cell_type": "code",
   "execution_count": null,
   "metadata": {
    "colab": {
     "base_uri": "https://localhost:8080/",
     "height": 34
    },
    "colab_type": "code",
    "id": "Min1NCDOd9q5",
    "outputId": "cc2f153e-9d02-49e0-db23-968776480e94"
   },
   "outputs": [
    {
     "name": "stdout",
     "output_type": "stream",
     "text": [
      "80668 20168\n"
     ]
    }
   ],
   "source": [
    "print(len(x_train), len(x_test))"
   ]
  },
  {
   "cell_type": "markdown",
   "metadata": {
    "colab_type": "text",
    "id": "You4UplhsD7O"
   },
   "source": [
    "# Process Training Data"
   ]
  },
  {
   "cell_type": "code",
   "execution_count": 14,
   "metadata": {
    "colab": {},
    "colab_type": "code",
    "id": "U_P2C-MGsn8L"
   },
   "outputs": [],
   "source": [
    "trainset = ratings\n",
    "# drop the last movie userId[i] rated from the training set\n",
    "for i in leaveOneOut.keys():\n",
    "  query0 = trainset[trainset['userId'] == i]\n",
    "  query1 = query0[query0['movieId'] == leaveOneOut[i]]\n",
    "  #print(list(query1.index))\n",
    "  trainset = trainset.drop(list(query1.index))"
   ]
  },
  {
   "cell_type": "code",
   "execution_count": 15,
   "metadata": {
    "colab": {
     "base_uri": "https://localhost:8080/",
     "height": 402
    },
    "colab_type": "code",
    "id": "tAppd39w01Ao",
    "outputId": "77d383c4-9849-4c54-8454-9dc73612a063"
   },
   "outputs": [
    {
     "data": {
      "text/html": [
       "<div>\n",
       "<style scoped>\n",
       "    .dataframe tbody tr th:only-of-type {\n",
       "        vertical-align: middle;\n",
       "    }\n",
       "\n",
       "    .dataframe tbody tr th {\n",
       "        vertical-align: top;\n",
       "    }\n",
       "\n",
       "    .dataframe thead th {\n",
       "        text-align: right;\n",
       "    }\n",
       "</style>\n",
       "<table border=\"1\" class=\"dataframe\">\n",
       "  <thead>\n",
       "    <tr style=\"text-align: right;\">\n",
       "      <th></th>\n",
       "      <th>userId</th>\n",
       "      <th>movieId</th>\n",
       "      <th>rating</th>\n",
       "      <th>timestamp</th>\n",
       "    </tr>\n",
       "  </thead>\n",
       "  <tbody>\n",
       "    <tr>\n",
       "      <th>0</th>\n",
       "      <td>1</td>\n",
       "      <td>1</td>\n",
       "      <td>4.0</td>\n",
       "      <td>964982703</td>\n",
       "    </tr>\n",
       "    <tr>\n",
       "      <th>1</th>\n",
       "      <td>1</td>\n",
       "      <td>3</td>\n",
       "      <td>4.0</td>\n",
       "      <td>964981247</td>\n",
       "    </tr>\n",
       "    <tr>\n",
       "      <th>2</th>\n",
       "      <td>1</td>\n",
       "      <td>6</td>\n",
       "      <td>4.0</td>\n",
       "      <td>964982224</td>\n",
       "    </tr>\n",
       "    <tr>\n",
       "      <th>3</th>\n",
       "      <td>1</td>\n",
       "      <td>47</td>\n",
       "      <td>5.0</td>\n",
       "      <td>964983815</td>\n",
       "    </tr>\n",
       "    <tr>\n",
       "      <th>4</th>\n",
       "      <td>1</td>\n",
       "      <td>50</td>\n",
       "      <td>5.0</td>\n",
       "      <td>964982931</td>\n",
       "    </tr>\n",
       "    <tr>\n",
       "      <th>...</th>\n",
       "      <td>...</td>\n",
       "      <td>...</td>\n",
       "      <td>...</td>\n",
       "      <td>...</td>\n",
       "    </tr>\n",
       "    <tr>\n",
       "      <th>100830</th>\n",
       "      <td>610</td>\n",
       "      <td>166528</td>\n",
       "      <td>4.0</td>\n",
       "      <td>1493879365</td>\n",
       "    </tr>\n",
       "    <tr>\n",
       "      <th>100831</th>\n",
       "      <td>610</td>\n",
       "      <td>166534</td>\n",
       "      <td>4.0</td>\n",
       "      <td>1493848402</td>\n",
       "    </tr>\n",
       "    <tr>\n",
       "      <th>100832</th>\n",
       "      <td>610</td>\n",
       "      <td>168248</td>\n",
       "      <td>5.0</td>\n",
       "      <td>1493850091</td>\n",
       "    </tr>\n",
       "    <tr>\n",
       "      <th>100833</th>\n",
       "      <td>610</td>\n",
       "      <td>168250</td>\n",
       "      <td>5.0</td>\n",
       "      <td>1494273047</td>\n",
       "    </tr>\n",
       "    <tr>\n",
       "      <th>100834</th>\n",
       "      <td>610</td>\n",
       "      <td>168252</td>\n",
       "      <td>5.0</td>\n",
       "      <td>1493846352</td>\n",
       "    </tr>\n",
       "  </tbody>\n",
       "</table>\n",
       "<p>100226 rows × 4 columns</p>\n",
       "</div>"
      ],
      "text/plain": [
       "        userId  movieId  rating   timestamp\n",
       "0            1        1     4.0   964982703\n",
       "1            1        3     4.0   964981247\n",
       "2            1        6     4.0   964982224\n",
       "3            1       47     5.0   964983815\n",
       "4            1       50     5.0   964982931\n",
       "...        ...      ...     ...         ...\n",
       "100830     610   166528     4.0  1493879365\n",
       "100831     610   166534     4.0  1493848402\n",
       "100832     610   168248     5.0  1493850091\n",
       "100833     610   168250     5.0  1494273047\n",
       "100834     610   168252     5.0  1493846352\n",
       "\n",
       "[100226 rows x 4 columns]"
      ]
     },
     "execution_count": 15,
     "metadata": {
      "tags": []
     },
     "output_type": "execute_result"
    }
   ],
   "source": [
    "trainset"
   ]
  },
  {
   "cell_type": "markdown",
   "metadata": {
    "colab_type": "text",
    "id": "iXDT0g771oyr"
   },
   "source": [
    "shuffle trainset"
   ]
  },
  {
   "cell_type": "code",
   "execution_count": 16,
   "metadata": {
    "colab": {},
    "colab_type": "code",
    "id": "rspYpyXP1od-"
   },
   "outputs": [],
   "source": [
    "from sklearn.utils import shuffle"
   ]
  },
  {
   "cell_type": "code",
   "execution_count": 17,
   "metadata": {
    "colab": {},
    "colab_type": "code",
    "id": "HcFIVIu72F9U"
   },
   "outputs": [],
   "source": [
    "trainset = shuffle(trainset)"
   ]
  },
  {
   "cell_type": "code",
   "execution_count": 18,
   "metadata": {
    "colab": {
     "base_uri": "https://localhost:8080/",
     "height": 402
    },
    "colab_type": "code",
    "id": "OYwYDiizHJ8-",
    "outputId": "98b4f4d6-a8a6-4c2f-9d42-7534d1d921ca"
   },
   "outputs": [
    {
     "data": {
      "text/html": [
       "<div>\n",
       "<style scoped>\n",
       "    .dataframe tbody tr th:only-of-type {\n",
       "        vertical-align: middle;\n",
       "    }\n",
       "\n",
       "    .dataframe tbody tr th {\n",
       "        vertical-align: top;\n",
       "    }\n",
       "\n",
       "    .dataframe thead th {\n",
       "        text-align: right;\n",
       "    }\n",
       "</style>\n",
       "<table border=\"1\" class=\"dataframe\">\n",
       "  <thead>\n",
       "    <tr style=\"text-align: right;\">\n",
       "      <th></th>\n",
       "      <th>userId</th>\n",
       "      <th>movieId</th>\n",
       "      <th>rating</th>\n",
       "      <th>timestamp</th>\n",
       "    </tr>\n",
       "  </thead>\n",
       "  <tbody>\n",
       "    <tr>\n",
       "      <th>97637</th>\n",
       "      <td>606</td>\n",
       "      <td>1580</td>\n",
       "      <td>2.5</td>\n",
       "      <td>1171310310</td>\n",
       "    </tr>\n",
       "    <tr>\n",
       "      <th>15703</th>\n",
       "      <td>103</td>\n",
       "      <td>2294</td>\n",
       "      <td>4.0</td>\n",
       "      <td>1431957820</td>\n",
       "    </tr>\n",
       "    <tr>\n",
       "      <th>89632</th>\n",
       "      <td>580</td>\n",
       "      <td>6645</td>\n",
       "      <td>4.0</td>\n",
       "      <td>1167861051</td>\n",
       "    </tr>\n",
       "    <tr>\n",
       "      <th>90510</th>\n",
       "      <td>589</td>\n",
       "      <td>736</td>\n",
       "      <td>5.0</td>\n",
       "      <td>856038815</td>\n",
       "    </tr>\n",
       "    <tr>\n",
       "      <th>18280</th>\n",
       "      <td>116</td>\n",
       "      <td>586</td>\n",
       "      <td>3.5</td>\n",
       "      <td>1337199910</td>\n",
       "    </tr>\n",
       "    <tr>\n",
       "      <th>...</th>\n",
       "      <td>...</td>\n",
       "      <td>...</td>\n",
       "      <td>...</td>\n",
       "      <td>...</td>\n",
       "    </tr>\n",
       "    <tr>\n",
       "      <th>75686</th>\n",
       "      <td>477</td>\n",
       "      <td>2701</td>\n",
       "      <td>3.0</td>\n",
       "      <td>1200941197</td>\n",
       "    </tr>\n",
       "    <tr>\n",
       "      <th>20372</th>\n",
       "      <td>135</td>\n",
       "      <td>485</td>\n",
       "      <td>5.0</td>\n",
       "      <td>1009692293</td>\n",
       "    </tr>\n",
       "    <tr>\n",
       "      <th>71370</th>\n",
       "      <td>458</td>\n",
       "      <td>236</td>\n",
       "      <td>4.0</td>\n",
       "      <td>845652668</td>\n",
       "    </tr>\n",
       "    <tr>\n",
       "      <th>11779</th>\n",
       "      <td>72</td>\n",
       "      <td>593</td>\n",
       "      <td>4.5</td>\n",
       "      <td>1217324766</td>\n",
       "    </tr>\n",
       "    <tr>\n",
       "      <th>28004</th>\n",
       "      <td>191</td>\n",
       "      <td>496</td>\n",
       "      <td>5.0</td>\n",
       "      <td>829760898</td>\n",
       "    </tr>\n",
       "  </tbody>\n",
       "</table>\n",
       "<p>100226 rows × 4 columns</p>\n",
       "</div>"
      ],
      "text/plain": [
       "       userId  movieId  rating   timestamp\n",
       "97637     606     1580     2.5  1171310310\n",
       "15703     103     2294     4.0  1431957820\n",
       "89632     580     6645     4.0  1167861051\n",
       "90510     589      736     5.0   856038815\n",
       "18280     116      586     3.5  1337199910\n",
       "...       ...      ...     ...         ...\n",
       "75686     477     2701     3.0  1200941197\n",
       "20372     135      485     5.0  1009692293\n",
       "71370     458      236     4.0   845652668\n",
       "11779      72      593     4.5  1217324766\n",
       "28004     191      496     5.0   829760898\n",
       "\n",
       "[100226 rows x 4 columns]"
      ]
     },
     "execution_count": 18,
     "metadata": {
      "tags": []
     },
     "output_type": "execute_result"
    }
   ],
   "source": [
    "trainset"
   ]
  },
  {
   "cell_type": "markdown",
   "metadata": {
    "colab_type": "text",
    "id": "GfaEKoRQejDp"
   },
   "source": [
    "map movieId to the continous sequence"
   ]
  },
  {
   "cell_type": "code",
   "execution_count": 19,
   "metadata": {
    "colab": {},
    "colab_type": "code",
    "id": "y4OaFkZqenIh"
   },
   "outputs": [],
   "source": [
    "import numpy as np"
   ]
  },
  {
   "cell_type": "code",
   "execution_count": 20,
   "metadata": {
    "colab": {
     "base_uri": "https://localhost:8080/",
     "height": 34
    },
    "colab_type": "code",
    "id": "AQA-HBDSeaw7",
    "outputId": "853d2a2b-a332-4341-8f66-ce35002dec54"
   },
   "outputs": [
    {
     "data": {
      "text/plain": [
       "array([ 101, 1592, 5417, ...,  560,   34, 5557])"
      ]
     },
     "execution_count": 20,
     "metadata": {
      "tags": []
     },
     "output_type": "execute_result"
    }
   ],
   "source": [
    "m = []\n",
    "for i in trainset['movieId'].to_numpy():\n",
    "  m.append(movieIdDict[i])\n",
    "\n",
    "np.array(m)"
   ]
  },
  {
   "cell_type": "code",
   "execution_count": 21,
   "metadata": {
    "colab": {
     "base_uri": "https://localhost:8080/",
     "height": 50
    },
    "colab_type": "code",
    "id": "v8Row7DU1djR",
    "outputId": "c8fb0e74-0cba-4ae4-f2ed-acda27ea0c6d"
   },
   "outputs": [
    {
     "data": {
      "text/plain": [
       "{'input_item': array([ 101, 1592, 5417, ...,  560,   34, 5557]),\n",
       " 'input_user': array([606, 103, 580, ..., 458,  72, 191])}"
      ]
     },
     "execution_count": 21,
     "metadata": {
      "tags": []
     },
     "output_type": "execute_result"
    }
   ],
   "source": [
    "training_data_x = {'input_user': trainset['userId'].to_numpy(),\n",
    "          'input_item': np.array(m)}\n",
    "\n",
    "training_data_x"
   ]
  },
  {
   "cell_type": "code",
   "execution_count": 22,
   "metadata": {
    "colab": {
     "base_uri": "https://localhost:8080/",
     "height": 34
    },
    "colab_type": "code",
    "id": "yp7sSTilIjD8",
    "outputId": "2f4c7625-487f-4055-c55b-70d4c0f35af6"
   },
   "outputs": [
    {
     "data": {
      "text/plain": [
       "array([2.5, 4. , 4. , ..., 4. , 4.5, 5. ])"
      ]
     },
     "execution_count": 22,
     "metadata": {
      "tags": []
     },
     "output_type": "execute_result"
    }
   ],
   "source": [
    "training_data_y = trainset['rating'].to_numpy()\n",
    "training_data_y"
   ]
  },
  {
   "cell_type": "code",
   "execution_count": 23,
   "metadata": {
    "colab": {},
    "colab_type": "code",
    "id": "I-RXME2WfJT0"
   },
   "outputs": [],
   "source": [
    "cfmf = CFMF(user_num + 1, item_num)"
   ]
  },
  {
   "cell_type": "code",
   "execution_count": 24,
   "metadata": {
    "colab": {
     "base_uri": "https://localhost:8080/",
     "height": 386
    },
    "colab_type": "code",
    "id": "1ymHjBa5fQvh",
    "outputId": "ed562325-51f0-47e7-8063-cc1fc37e1c4b"
   },
   "outputs": [
    {
     "name": "stdout",
     "output_type": "stream",
     "text": [
      "Model: \"functional_1\"\n",
      "__________________________________________________________________________________________________\n",
      "Layer (type)                    Output Shape         Param #     Connected to                     \n",
      "==================================================================================================\n",
      "input_user (InputLayer)         [(None, 1)]          0                                            \n",
      "__________________________________________________________________________________________________\n",
      "input_item (InputLayer)         [(None, 1)]          0                                            \n",
      "__________________________________________________________________________________________________\n",
      "user_embedding (Embedding)      (None, 1, 10)        6110        input_user[0][0]                 \n",
      "__________________________________________________________________________________________________\n",
      "item_embedding (Embedding)      (None, 1, 10)        97240       input_item[0][0]                 \n",
      "__________________________________________________________________________________________________\n",
      "dot (Dot)                       (None, 1, 1)         0           user_embedding[0][0]             \n",
      "                                                                 item_embedding[0][0]             \n",
      "__________________________________________________________________________________________________\n",
      "flatten (Flatten)               (None, 1)            0           dot[0][0]                        \n",
      "==================================================================================================\n",
      "Total params: 103,350\n",
      "Trainable params: 103,350\n",
      "Non-trainable params: 0\n",
      "__________________________________________________________________________________________________\n",
      "None\n"
     ]
    }
   ],
   "source": [
    "model = cfmf.create_model()"
   ]
  },
  {
   "cell_type": "code",
   "execution_count": null,
   "metadata": {
    "colab": {
     "base_uri": "https://localhost:8080/",
     "height": 1000
    },
    "colab_type": "code",
    "id": "VtqsweibfWyU",
    "outputId": "e8880fef-0cbe-4c62-81d9-14e90707877b"
   },
   "outputs": [],
   "source": [
    "model.fit(x=training_data_x, y=training_data_y, batch_size=16, epochs=50, verbose=1, shuffle=True, validation_split=0.2)"
   ]
  },
  {
   "cell_type": "markdown",
   "metadata": {
    "colab_type": "text",
    "id": "PoFDUCIZt8iV"
   },
   "source": [
    "# Test Predict interface"
   ]
  },
  {
   "cell_type": "code",
   "execution_count": 26,
   "metadata": {
    "colab": {},
    "colab_type": "code",
    "id": "x4OuPH-DjRZ8"
   },
   "outputs": [],
   "source": [
    "def predict(in_user, in_item):\n",
    "  test_data_x = {'input_user':np.array([in_user,]),\n",
    "        'input_item':np.array([movieIdDict[in_item],])}\n",
    "  # calling predict() with batch is very slow, call model(x) directly is faster\n",
    "  result = model(test_data_x, training=False)\n",
    "  return result.numpy()[0,0]"
   ]
  },
  {
   "cell_type": "code",
   "execution_count": 27,
   "metadata": {
    "colab": {
     "base_uri": "https://localhost:8080/",
     "height": 34
    },
    "colab_type": "code",
    "id": "lZ6bRNMalub8",
    "outputId": "8762d576-c487-43ca-a2c2-c21cc1fa4630"
   },
   "outputs": [
    {
     "data": {
      "text/plain": [
       "3.801024"
      ]
     },
     "execution_count": 27,
     "metadata": {
      "tags": []
     },
     "output_type": "execute_result"
    }
   ],
   "source": [
    "predict(41, 5377)"
   ]
  },
  {
   "cell_type": "markdown",
   "metadata": {
    "colab_type": "text",
    "id": "eo16mPzZKXtX"
   },
   "source": [
    "# Create eval data"
   ]
  },
  {
   "cell_type": "code",
   "execution_count": null,
   "metadata": {
    "colab": {
     "base_uri": "https://localhost:8080/",
     "height": 34
    },
    "colab_type": "code",
    "id": "PAW4ZKpts0F3",
    "outputId": "817ec5a4-106d-461e-c2aa-303d8db923b3"
   },
   "outputs": [
    {
     "data": {
      "text/plain": [
       "193609"
      ]
     },
     "execution_count": 86,
     "metadata": {
      "tags": []
     },
     "output_type": "execute_result"
    }
   ],
   "source": [
    "# get max user id\n",
    "max_movie_id = np.max(ratings['movieId'].to_numpy())\n",
    "max_movie_id"
   ]
  },
  {
   "cell_type": "code",
   "execution_count": null,
   "metadata": {
    "colab": {},
    "colab_type": "code",
    "id": "RzSoEVSllZkY"
   },
   "outputs": [],
   "source": [
    "def getRatedMovie(in_user, maxid = max_movie_id):\n",
    "  return leaveOneOut[in_user]"
   ]
  },
  {
   "cell_type": "code",
   "execution_count": null,
   "metadata": {
    "colab": {
     "base_uri": "https://localhost:8080/",
     "height": 34
    },
    "colab_type": "code",
    "id": "Boi2bM0Dw_j7",
    "outputId": "0fbd439d-6f5b-4223-93ae-b77fe73f1483"
   },
   "outputs": [
    {
     "data": {
      "text/plain": [
       "5060"
      ]
     },
     "execution_count": 88,
     "metadata": {
      "tags": []
     },
     "output_type": "execute_result"
    }
   ],
   "source": [
    "getRatedMovie(1)"
   ]
  },
  {
   "cell_type": "code",
   "execution_count": null,
   "metadata": {
    "colab": {},
    "colab_type": "code",
    "id": "bIygvJpjpTjx"
   },
   "outputs": [],
   "source": [
    "def getNotRatedMovie(in_user, n, maxid = max_movie_id):\n",
    "  rated = ratings.loc[ratings['userId'] == in_user]['movieId'].to_numpy()\n",
    "  not_rated = []\n",
    "  while(len(not_rated) < n):\n",
    "    x = np.random.randint(maxid)\n",
    "    if((x not in rated)and (x in movieIdDict.keys())):\n",
    "      not_rated.append(x)\n",
    "\n",
    "  return np.array(not_rated)"
   ]
  },
  {
   "cell_type": "code",
   "execution_count": null,
   "metadata": {
    "colab": {
     "base_uri": "https://localhost:8080/",
     "height": 238
    },
    "colab_type": "code",
    "id": "vbu4y52XqvgP",
    "outputId": "c38eb658-72e1-4221-8be4-740ced5919d8"
   },
   "outputs": [
    {
     "data": {
      "text/plain": [
       "array([  7702,   4728,    984, 136018,   3365,  97701,   1526,   5168,\n",
       "       106542,   4677,   4211,   2624,    587, 142602,  59333,  69604,\n",
       "         3528,   3586,   3957,   6898,   4407, 141544, 190213,   1446,\n",
       "        59784,   7730,   5136, 147330,    841,  82765,   3662,   3306,\n",
       "         3307,   3586,   8360,   8596,   7802, 107449,  79073,   6763,\n",
       "          319,   6571,  26797,    837,  61257,  59915,   4259, 128736,\n",
       "        63853,   5353,  90471,   6567, 120138, 175293,  98697,   5066,\n",
       "         5283,   6990, 140289,  96829, 136540,  95858,  58105,    161,\n",
       "         2488,  54962,    147,  97866,   2423, 168144,   7015,  42556,\n",
       "       100882,  74075, 136471,  49265, 160573,  92643,   4756,  37736,\n",
       "         2320,   4234,  26681,    520, 152970, 131610,   2979,   3802,\n",
       "        69805,   4881,    201,   8966,   3929,  55061,   6773,  33781,\n",
       "         2080,  54648,   1271])"
      ]
     },
     "execution_count": 90,
     "metadata": {
      "tags": []
     },
     "output_type": "execute_result"
    }
   ],
   "source": [
    "getNotRatedMovie(1,99)"
   ]
  },
  {
   "cell_type": "code",
   "execution_count": null,
   "metadata": {
    "colab": {},
    "colab_type": "code",
    "id": "HejIDzkYrVlG"
   },
   "outputs": [],
   "source": [
    "eval_data = []\n",
    "\n",
    "for i in leaveOneOut.keys():\n",
    "  eval_data.append(np.concatenate([[getRatedMovie(i)],getNotRatedMovie(i,99)]))\n"
   ]
  },
  {
   "cell_type": "code",
   "execution_count": null,
   "metadata": {
    "colab": {
     "base_uri": "https://localhost:8080/",
     "height": 34
    },
    "colab_type": "code",
    "id": "e3TOdY1Xyn6p",
    "outputId": "1d429197-64d9-45dc-cd70-cb7669371a4e"
   },
   "outputs": [
    {
     "data": {
      "text/plain": [
       "610"
      ]
     },
     "execution_count": 92,
     "metadata": {
      "tags": []
     },
     "output_type": "execute_result"
    }
   ],
   "source": [
    "len(eval_data)"
   ]
  },
  {
   "cell_type": "code",
   "execution_count": null,
   "metadata": {
    "colab": {},
    "colab_type": "code",
    "id": "DnIU9ITv2GW5"
   },
   "outputs": [],
   "source": [
    "eval_data"
   ]
  },
  {
   "cell_type": "markdown",
   "metadata": {
    "colab_type": "text",
    "id": "mjSheoqoznCk"
   },
   "source": [
    "# Top n hit"
   ]
  },
  {
   "cell_type": "code",
   "execution_count": null,
   "metadata": {
    "colab": {
     "base_uri": "https://localhost:8080/",
     "height": 1000
    },
    "colab_type": "code",
    "id": "tgDmlNCizfAu",
    "outputId": "1d097a17-32db-4634-e332-4ea80bc2515a"
   },
   "outputs": [],
   "source": [
    "top_1_hit = 0\n",
    "top_5_hit = 0\n",
    "\n",
    "# for each user\n",
    "for user in range(len(eval_data)):\n",
    "  eval_result = []\n",
    "\n",
    "  # predict eval_data\n",
    "  for i in eval_data[user]:\n",
    "    eval_result.append((i,predict(user+1,i)))\n",
    "\n",
    "  eval_result.sort(key= lambda s:s[1], reverse=True)\n",
    "\n",
    "  #top 1 hit\n",
    "  if(eval_data[user][0] == eval_result[0][0] ):\n",
    "    top_1_hit += 1\n",
    "\n",
    "  top_5_rate = [i[0] for i in eval_result[:5]]\n",
    "  #top 5 hit\n",
    "  if(eval_data[user][0] in top_5_rate ):\n",
    "    top_5_hit += 1\n",
    "  \n",
    "  #print('user {} {}'.format(user,top_1_hit))\n",
    "  #print('user {} {}'.format(user,top_5_hit))\n",
    "  #print(eval_result)\n",
    "  print('{}/{}'.format(user+1,len(eval_data)))\n",
    "  "
   ]
  },
  {
   "cell_type": "code",
   "execution_count": null,
   "metadata": {
    "colab": {
     "base_uri": "https://localhost:8080/",
     "height": 51
    },
    "colab_type": "code",
    "id": "NDdDDPgI9V_h",
    "outputId": "74ecc939-79d0-4b2f-8424-7662ceb60358"
   },
   "outputs": [
    {
     "name": "stdout",
     "output_type": "stream",
     "text": [
      "top 1 hit rate : 0.03934426229508197\n",
      "top 5 hit rate : 0.13442622950819672\n"
     ]
    }
   ],
   "source": [
    "#top n hit rate\n",
    "print('top 1 hit rate : {}'.format(top_1_hit/len(eval_data)) )\n",
    "print('top 5 hit rate : {}'.format(top_5_hit/len(eval_data)) )"
   ]
  },
  {
   "cell_type": "code",
   "execution_count": null,
   "metadata": {
    "colab": {},
    "colab_type": "code",
    "id": "p8ZL2GdfqZPv"
   },
   "outputs": [],
   "source": [
    "x=[(1,5),(2,7),(3,3)]"
   ]
  },
  {
   "cell_type": "code",
   "execution_count": null,
   "metadata": {
    "colab": {},
    "colab_type": "code",
    "id": "uRxDylYC_lag"
   },
   "outputs": [],
   "source": [
    "x.sort(key= lambda s:s[1], reverse=True)"
   ]
  },
  {
   "cell_type": "markdown",
   "metadata": {
    "colab_type": "text",
    "id": "kQ5gwTj2j3rM"
   },
   "source": [
    "# Test Accuracy"
   ]
  },
  {
   "cell_type": "code",
   "execution_count": 28,
   "metadata": {
    "colab": {},
    "colab_type": "code",
    "id": "zCQ-OqqHj9Sb"
   },
   "outputs": [],
   "source": [
    "ratings = pd.read_csv('gdrive/My Drive/iir_training_python/Recommendation System/ratings.csv')"
   ]
  },
  {
   "cell_type": "code",
   "execution_count": 29,
   "metadata": {
    "colab": {},
    "colab_type": "code",
    "id": "ZNkdkqlFXJnr"
   },
   "outputs": [],
   "source": [
    "# the last movie and rating of each user\n",
    "test_data = []\n",
    "\n",
    "for i in leaveOneOut.keys():\n",
    "  query0 = ratings[ratings['userId'] == i]\n",
    "  query1 = query0[query0['movieId'] == leaveOneOut[i]]\n",
    "  test_data.append( (movieIdDict[query1['movieId'].values[0]], query1['rating'].values[0]) )\n",
    "  "
   ]
  },
  {
   "cell_type": "code",
   "execution_count": 30,
   "metadata": {
    "colab": {},
    "colab_type": "code",
    "id": "YmlYYoFUXSN6"
   },
   "outputs": [],
   "source": [
    "test_data = np.array(test_data)\n",
    "# divide to test_x(data) and test_y(label)\n",
    "test_x = test_data[...,0]\n",
    "test_y = test_data[...,1]\n",
    "\n",
    "test_data_x = {'input_user': np.array(range(len(test_x))),\n",
    "          'input_item': test_x}"
   ]
  },
  {
   "cell_type": "code",
   "execution_count": 31,
   "metadata": {
    "colab": {
     "base_uri": "https://localhost:8080/",
     "height": 50
    },
    "colab_type": "code",
    "id": "rJYeFr7uc5lW",
    "outputId": "e6459006-26c9-4b34-c2bd-ee8f17cc0493"
   },
   "outputs": [
    {
     "name": "stdout",
     "output_type": "stream",
     "text": [
      "20/20 [==============================] - 0s 2ms/step - loss: 3.1609 - accuracy_w_threshhold_metric_fn: 0.1213\n"
     ]
    },
    {
     "data": {
      "text/plain": [
       "[3.1609222888946533, 0.1213114783167839]"
      ]
     },
     "execution_count": 31,
     "metadata": {
      "tags": []
     },
     "output_type": "execute_result"
    }
   ],
   "source": [
    "model.evaluate(x=test_data_x, y=test_y)"
   ]
  },
  {
   "cell_type": "markdown",
   "metadata": {
    "colab_type": "text",
    "id": "gl7SA2jxi92q"
   },
   "source": [
    "# Theory\n",
    "Accuracy is 0 due to our model perdict values are floats, but all the labels are either int or .5"
   ]
  },
  {
   "cell_type": "code",
   "execution_count": 31,
   "metadata": {
    "colab": {},
    "colab_type": "code",
    "id": "G-nPXtN3d1lb"
   },
   "outputs": [],
   "source": []
  }
 ],
 "metadata": {
  "accelerator": "GPU",
  "colab": {
   "authorship_tag": "ABX9TyOjrbQ3HvNyI3P6zgUz61IM",
   "collapsed_sections": [],
   "include_colab_link": true,
   "name": "MatrixFac.ipynb",
   "provenance": []
  },
  "kernelspec": {
   "display_name": "Python 3",
   "language": "python",
   "name": "python3"
  },
  "language_info": {
   "codemirror_mode": {
    "name": "ipython",
    "version": 3
   },
   "file_extension": ".py",
   "mimetype": "text/x-python",
   "name": "python",
   "nbconvert_exporter": "python",
   "pygments_lexer": "ipython3",
   "version": "3.6.12"
  }
 },
 "nbformat": 4,
 "nbformat_minor": 1
}
